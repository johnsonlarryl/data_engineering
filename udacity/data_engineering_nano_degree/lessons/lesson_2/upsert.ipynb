{
 "cells": [
  {
   "cell_type": "code",
   "execution_count": 2,
   "metadata": {
    "collapsed": false
   },
   "outputs": [],
   "source": [
    "import psycopg2"
   ]
  },
  {
   "cell_type": "code",
   "execution_count": 17,
   "metadata": {
    "collapsed": true
   },
   "outputs": [],
   "source": [
    "try:\n",
    "    conn = psycopg2.connect(\"host=127.0.0.1 dbname=studentdb user=student password=student\")\n",
    "    conn.set_session(autocommit=True)\n",
    "except:\n",
    "    print(\"Error:  could not make connection to the Postgres database\")\n",
    "    print(e)"
   ]
  },
  {
   "cell_type": "code",
   "execution_count": 23,
   "metadata": {
    "collapsed": false
   },
   "outputs": [],
   "source": [
    "try:\n",
    "    cur = conn.cursor()\n",
    "    cur.execute(\"DROP TABLE IF EXISTS customer_address\")\n",
    "except Exception as e:\n",
    "        print(\"Error: Could not drop customer tables\")\n",
    "        print(e)"
   ]
  },
  {
   "cell_type": "code",
   "execution_count": 24,
   "metadata": {
    "collapsed": false
   },
   "outputs": [],
   "source": [
    "try:\n",
    "    cur = conn.cursor()\n",
    "    cur.execute(\"\"\"\n",
    "                CREATE TABLE IF NOT EXISTS customer_address (\n",
    "                customer_id int PRIMARY KEY, \n",
    "                customer_street varchar NOT NULL,\n",
    "                customer_city text NOT NULL,\n",
    "                customer_state text NOT NULL);\n",
    "                \"\"\")\n",
    "except Exception as e:\n",
    "        print(\"Error: not get cursor to the Postgres database\")\n",
    "        print(e)"
   ]
  },
  {
   "cell_type": "code",
   "execution_count": 25,
   "metadata": {
    "collapsed": false
   },
   "outputs": [],
   "source": [
    "try:\n",
    "    cur.execute(\"\"\"\n",
    "                INSERT into customer_address (customer_id, customer_street, customer_city, customer_state)  \n",
    "                VALUES(432, '758 Main Street', 'Chicago', 'IL');\n",
    "                \"\"\")\n",
    "except Exception as e:\n",
    "    print(\"Error: Inserting Rows\")\n",
    "    print(e)"
   ]
  },
  {
   "cell_type": "code",
   "execution_count": 28,
   "metadata": {
    "collapsed": false
   },
   "outputs": [
    {
     "name": "stdout",
     "output_type": "stream",
     "text": [
      "Error: Inserting Rows\n",
      "syntax error at or near \"ON\"\n",
      "LINE 7:                 ON CONFLICT (customer_id) \n",
      "                        ^\n",
      "\n"
     ]
    }
   ],
   "source": [
    "try:\n",
    "    cur.execute(\"\"\"\n",
    "                INSERT into customer_address (customer_id, customer_street, customer_city, customer_state)  \n",
    "                VALUES\n",
    "                (\n",
    "                432, '923 Knox Street', 'Albany', 'NY'\n",
    "                ) \n",
    "                ON CONFLICT (customer_id) \n",
    "                DO NOTHING;\n",
    "                \"\"\")\n",
    "except Exception as e:\n",
    "    print(\"Error: Inserting Rows\")\n",
    "    print(e)"
   ]
  },
  {
   "cell_type": "code",
   "execution_count": null,
   "metadata": {
    "collapsed": true
   },
   "outputs": [],
   "source": []
  }
 ],
 "metadata": {
  "kernelspec": {
   "display_name": "Python 3",
   "language": "python",
   "name": "python3"
  },
  "language_info": {
   "codemirror_mode": {
    "name": "ipython",
    "version": 3
   },
   "file_extension": ".py",
   "mimetype": "text/x-python",
   "name": "python",
   "nbconvert_exporter": "python",
   "pygments_lexer": "ipython3",
   "version": "3.6.8"
  }
 },
 "nbformat": 4,
 "nbformat_minor": 0
}
